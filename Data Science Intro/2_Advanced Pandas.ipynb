{
 "cells": [
  {
   "cell_type": "markdown",
   "metadata": {},
   "source": [
    "---\n",
    "\n",
    "_You are currently looking at **version 1.5** of this notebook. To download notebooks and datafiles, as well as get help on Jupyter notebooks in the Coursera platform, visit the [Jupyter Notebook FAQ](https://www.coursera.org/learn/python-data-analysis/resources/0dhYG) course resource._\n",
    "\n",
    "---"
   ]
  },
  {
   "cell_type": "markdown",
   "metadata": {},
   "source": [
    "# Assignment 3 - More Pandas\n",
    "This assignment requires more individual learning then the last one did - you are encouraged to check out the [pandas documentation](http://pandas.pydata.org/pandas-docs/stable/) to find functions or methods you might not have used yet, or ask questions on [Stack Overflow](http://stackoverflow.com/) and tag them as pandas and python related. And of course, the discussion forums are open for interaction with your peers and the course staff."
   ]
  },
  {
   "cell_type": "code",
   "execution_count": 82,
   "metadata": {
    "collapsed": true
   },
   "outputs": [],
   "source": [
    "import pandas as pd\n",
    "import numpy as np\n",
    "import matplotlib as plt"
   ]
  },
  {
   "cell_type": "markdown",
   "metadata": {},
   "source": [
    "## Data Cleaning Procedures "
   ]
  },
  {
   "cell_type": "code",
   "execution_count": 83,
   "metadata": {},
   "outputs": [],
   "source": [
    "def get_energy():\n",
    "    Energy = pd.read_excel('Energy Indicators.xls')\n",
    "    Energy = Energy[16:243].drop( Energy.columns[[0, 1]], axis=1 ).reset_index(drop=True)\n",
    "    Energy.columns = ['Country', 'Energy Supply', 'Energy Supply per Capita', '% Renewable']\n",
    "    # remove numbers from country names\n",
    "    Energy['Country'] = Energy['Country'].str.replace('\\d+', '')\n",
    "    # replace '...' value with NaN\n",
    "    Energy['Energy Supply'] = Energy['Energy Supply'].replace('...', np.NaN)\n",
    "    Energy['Energy Supply per Capita'] = Energy['Energy Supply per Capita'].replace('...', np.NaN)\n",
    "    Energy['Energy Supply'] = Energy['Energy Supply'] * 1000000\n",
    "    dicts = {\"Republic of Korea\": \"South Korea\",\n",
    "                 \"United States of America\": \"United States\",\n",
    "                 \"United Kingdom of Great Britain and Northern Ireland\": \"United Kingdom\",\n",
    "                 \"China, Hong Kong Special Administrative Region\": \"Hong Kong\"}\n",
    "    Energy['Country'] = Energy['Country'].replace(dicts)\n",
    "    # remove where country names contains paranthesises. \n",
    "    Energy['Country'] = Energy['Country'].str.replace(' \\(.*\\)', '')\n",
    "    return Energy\n",
    "\n",
    "def get_GDP():\n",
    "    GDP = pd.read_csv('world_bank.csv', encoding=\"ISO-8859-1\", skiprows=4)\n",
    "    dicts = {\"Korea, Rep.\": \"South Korea\", \n",
    "                 \"Iran, Islamic Rep.\": \"Iran\",\n",
    "                 \"Hong Kong SAR, China\": \"Hong Kong\"}\n",
    "    GDP['Country Name'] = GDP['Country Name'].replace(dicts)\n",
    "    GDP.rename(columns={\"Country Name\": \"Country\"}, inplace=True)\n",
    "    return GDP\n",
    "\n",
    "def get_ScimEn():\n",
    "    ScimEn = pd.read_excel('scimagojr-3.xlsx')\n",
    "    return ScimEn"
   ]
  },
  {
   "cell_type": "markdown",
   "metadata": {},
   "source": [
    "### Question 1 (20%)\n",
    "Load the energy data from the file `Energy Indicators.xls`, which is a list of indicators of [energy supply and renewable electricity production](Energy%20Indicators.xls) from the [United Nations](http://unstats.un.org/unsd/environment/excel_file_tables/2013/Energy%20Indicators.xls) for the year 2013, and should be put into a DataFrame with the variable name of **energy**.\n",
    "\n",
    "Keep in mind that this is an Excel file, and not a comma separated values file. Also, make sure to exclude the footer and header information from the datafile. The first two columns are unneccessary, so you should get rid of them, and you should change the column labels so that the columns are:\n",
    "\n",
    "`['Country', 'Energy Supply', 'Energy Supply per Capita', '% Renewable']`\n",
    "\n",
    "Convert `Energy Supply` to gigajoules (there are 1,000,000 gigajoules in a petajoule). For all countries which have missing data (e.g. data with \"...\") make sure this is reflected as `np.NaN` values.\n",
    "\n",
    "Rename the following list of countries (for use in later questions):\n",
    "\n",
    "```\"Republic of Korea\": \"South Korea\",\n",
    "\"United States of America\": \"United States\",\n",
    "\"United Kingdom of Great Britain and Northern Ireland\": \"United Kingdom\",\n",
    "\"China, Hong Kong Special Administrative Region\": \"Hong Kong\"```\n",
    "\n",
    "There are also several countries with numbers and/or parenthesis in their name. Be sure to remove these, \n",
    "\n",
    "e.g. \n",
    "\n",
    "`'Bolivia (Plurinational State of)'` should be `'Bolivia'`, \n",
    "\n",
    "`'Switzerland17'` should be `'Switzerland'`.\n",
    "\n",
    "<br>\n",
    "\n",
    "Next, load the GDP data from the file `world_bank.csv`, which is a csv containing countries' GDP from 1960 to 2015 from [World Bank](http://data.worldbank.org/indicator/NY.GDP.MKTP.CD). Call this DataFrame **GDP**. \n",
    "\n",
    "Make sure to skip the header, and rename the following list of countries:\n",
    "\n",
    "```\"Korea, Rep.\": \"South Korea\", \n",
    "\"Iran, Islamic Rep.\": \"Iran\",\n",
    "\"Hong Kong SAR, China\": \"Hong Kong\"```\n",
    "\n",
    "<br>\n",
    "\n",
    "Finally, load the [Sciamgo Journal and Country Rank data for Energy Engineering and Power Technology](http://www.scimagojr.com/countryrank.php?category=2102) from the file `scimagojr-3.xlsx`, which ranks countries based on their journal contributions in the aforementioned area. Call this DataFrame **ScimEn**.\n",
    "\n",
    "Join the three datasets: GDP, Energy, and ScimEn into a new dataset (using the intersection of country names). Use only the last 10 years (2006-2015) of GDP data and only the top 15 countries by Scimagojr 'Rank' (Rank 1 through 15). \n",
    "\n",
    "The index of this DataFrame should be the name of the country, and the columns should be ['Rank', 'Documents', 'Citable documents', 'Citations', 'Self-citations',\n",
    "       'Citations per document', 'H index', 'Energy Supply',\n",
    "       'Energy Supply per Capita', '% Renewable', '2006', '2007', '2008',\n",
    "       '2009', '2010', '2011', '2012', '2013', '2014', '2015'].\n",
    "\n",
    "*This function should return a DataFrame with 20 columns and 15 entries.*"
   ]
  },
  {
   "cell_type": "code",
   "execution_count": 84,
   "metadata": {},
   "outputs": [
    {
     "name": "stdout",
     "output_type": "stream",
     "text": [
      "                    Rank  Documents  Citable documents  Citations  \\\n",
      "Country                                                             \n",
      "China                  1     127050             126767     597237   \n",
      "United States          2      96661              94747     792274   \n",
      "Japan                  3      30504              30287     223024   \n",
      "United Kingdom         4      20944              20357     206091   \n",
      "Russian Federation     5      18534              18301      34266   \n",
      "Canada                 6      17899              17620     215003   \n",
      "Germany                7      17027              16831     140566   \n",
      "India                  8      15005              14841     128763   \n",
      "France                 9      13153              12973     130632   \n",
      "South Korea           10      11983              11923     114675   \n",
      "Italy                 11      10964              10794     111850   \n",
      "Spain                 12       9428               9330     123336   \n",
      "Iran                  13       8896               8819      57470   \n",
      "Australia             14       8831               8725      90765   \n",
      "Brazil                15       8668               8596      60702   \n",
      "\n",
      "                    Self-citations  Citations per document  H index  \\\n",
      "Country                                                               \n",
      "China                       411683                    4.70      138   \n",
      "United States               265436                    8.20      230   \n",
      "Japan                        61554                    7.31      134   \n",
      "United Kingdom               37874                    9.84      139   \n",
      "Russian Federation           12422                    1.85       57   \n",
      "Canada                       40930                   12.01      149   \n",
      "Germany                      27426                    8.26      126   \n",
      "India                        37209                    8.58      115   \n",
      "France                       28601                    9.93      114   \n",
      "South Korea                  22595                    9.57      104   \n",
      "Italy                        26661                   10.20      106   \n",
      "Spain                        23964                   13.08      115   \n",
      "Iran                         19125                    6.46       72   \n",
      "Australia                    15606                   10.28      107   \n",
      "Brazil                       14396                    7.00       86   \n",
      "\n",
      "                    Energy Supply  Energy Supply per Capita % Renewable  \\\n",
      "Country                                                                   \n",
      "China                1.271910e+11                      93.0     19.7549   \n",
      "United States        9.083800e+10                     286.0      11.571   \n",
      "Japan                1.898400e+10                     149.0     10.2328   \n",
      "United Kingdom       7.920000e+09                     124.0     10.6005   \n",
      "Russian Federation   3.070900e+10                     214.0     17.2887   \n",
      "Canada               1.043100e+10                     296.0     61.9454   \n",
      "Germany              1.326100e+10                     165.0     17.9015   \n",
      "India                3.319500e+10                      26.0     14.9691   \n",
      "France               1.059700e+10                     166.0     17.0203   \n",
      "South Korea          1.100700e+10                     221.0     2.27935   \n",
      "Italy                6.530000e+09                     109.0     33.6672   \n",
      "Spain                4.923000e+09                     106.0     37.9686   \n",
      "Iran                 9.172000e+09                     119.0     5.70772   \n",
      "Australia            5.386000e+09                     231.0     11.8108   \n",
      "Brazil               1.214900e+10                      59.0      69.648   \n",
      "\n",
      "                            2006          2007          2008          2009  \\\n",
      "Country                                                                      \n",
      "China               3.992331e+12  4.559041e+12  4.997775e+12  5.459247e+12   \n",
      "United States       1.479230e+13  1.505540e+13  1.501149e+13  1.459484e+13   \n",
      "Japan               5.496542e+12  5.617036e+12  5.558527e+12  5.251308e+12   \n",
      "United Kingdom      2.419631e+12  2.482203e+12  2.470614e+12  2.367048e+12   \n",
      "Russian Federation  1.385793e+12  1.504071e+12  1.583004e+12  1.459199e+12   \n",
      "Canada              1.564469e+12  1.596740e+12  1.612713e+12  1.565145e+12   \n",
      "Germany             3.332891e+12  3.441561e+12  3.478809e+12  3.283340e+12   \n",
      "India               1.265894e+12  1.374865e+12  1.428361e+12  1.549483e+12   \n",
      "France              2.607840e+12  2.669424e+12  2.674637e+12  2.595967e+12   \n",
      "South Korea         9.410199e+11  9.924316e+11  1.020510e+12  1.027730e+12   \n",
      "Italy               2.202170e+12  2.234627e+12  2.211154e+12  2.089938e+12   \n",
      "Spain               1.414823e+12  1.468146e+12  1.484530e+12  1.431475e+12   \n",
      "Iran                3.895523e+11  4.250646e+11  4.289909e+11  4.389208e+11   \n",
      "Australia           1.021939e+12  1.060340e+12  1.099644e+12  1.119654e+12   \n",
      "Brazil              1.845080e+12  1.957118e+12  2.056809e+12  2.054215e+12   \n",
      "\n",
      "                            2010          2011          2012          2013  \\\n",
      "Country                                                                      \n",
      "China               6.039659e+12  6.612490e+12  7.124978e+12  7.672448e+12   \n",
      "United States       1.496437e+13  1.520402e+13  1.554216e+13  1.577367e+13   \n",
      "Japan               5.498718e+12  5.473738e+12  5.569102e+12  5.644659e+12   \n",
      "United Kingdom      2.403504e+12  2.450911e+12  2.479809e+12  2.533370e+12   \n",
      "Russian Federation  1.524917e+12  1.589943e+12  1.645876e+12  1.666934e+12   \n",
      "Canada              1.613406e+12  1.664087e+12  1.693133e+12  1.730688e+12   \n",
      "Germany             3.417298e+12  3.542371e+12  3.556724e+12  3.567317e+12   \n",
      "India               1.708459e+12  1.821872e+12  1.924235e+12  2.051982e+12   \n",
      "France              2.646995e+12  2.702032e+12  2.706968e+12  2.722567e+12   \n",
      "South Korea         1.094499e+12  1.134796e+12  1.160809e+12  1.194429e+12   \n",
      "Italy               2.125185e+12  2.137439e+12  2.077184e+12  2.040871e+12   \n",
      "Spain               1.431673e+12  1.417355e+12  1.380216e+12  1.357139e+12   \n",
      "Iran                4.677902e+11  4.853309e+11  4.532569e+11  4.445926e+11   \n",
      "Australia           1.142251e+12  1.169431e+12  1.211913e+12  1.241484e+12   \n",
      "Brazil              2.208872e+12  2.295245e+12  2.339209e+12  2.409740e+12   \n",
      "\n",
      "                            2014          2015  \n",
      "Country                                         \n",
      "China               8.230121e+12  8.797999e+12  \n",
      "United States       1.615662e+13  1.654857e+13  \n",
      "Japan               5.642884e+12  5.669563e+12  \n",
      "United Kingdom      2.605643e+12  2.666333e+12  \n",
      "Russian Federation  1.678709e+12  1.616149e+12  \n",
      "Canada              1.773486e+12  1.792609e+12  \n",
      "Germany             3.624386e+12  3.685556e+12  \n",
      "India               2.200617e+12  2.367206e+12  \n",
      "France              2.729632e+12  2.761185e+12  \n",
      "South Korea         1.234340e+12  1.266580e+12  \n",
      "Italy               2.033868e+12  2.049316e+12  \n",
      "Spain               1.375605e+12  1.419821e+12  \n",
      "Iran                4.639027e+11           NaN  \n",
      "Australia           1.272520e+12  1.301251e+12  \n",
      "Brazil              2.412231e+12  2.319423e+12  \n"
     ]
    }
   ],
   "source": [
    "def answer_one():\n",
    "    Energy = get_energy()\n",
    "    GDP = get_GDP()\n",
    "    ScimEn = get_ScimEn()\n",
    "    \n",
    "    GDP = GDP[['Country', '2006', '2007', '2008', '2009', '2010', '2011', '2012', '2013', '2014', '2015']]\n",
    "    ScimEn = ScimEn.head(15)\n",
    "    df1 = pd.merge(ScimEn, Energy, how='inner', left_on=\"Country\", right_on=\"Country\")\n",
    "    df2 = pd.merge(df1, GDP, how=\"inner\", left_on=\"Country\", right_on=\"Country\")\n",
    "    df2 = df2.set_index('Country')\n",
    "    return df2\n",
    "print(answer_one())"
   ]
  },
  {
   "cell_type": "markdown",
   "metadata": {},
   "source": [
    "### Question 2 (6.6%)\n",
    "The previous question joined three datasets then reduced this to just the top 15 entries. When you joined the datasets, but before you reduced this to the top 15 items, how many entries did you lose?\n",
    "\n",
    "*This function should return a single number.*"
   ]
  },
  {
   "cell_type": "code",
   "execution_count": 10,
   "metadata": {},
   "outputs": [
    {
     "data": {
      "text/html": [
       "<svg width=\"800\" height=\"300\">\n",
       "  <circle cx=\"150\" cy=\"180\" r=\"80\" fill-opacity=\"0.2\" stroke=\"black\" stroke-width=\"2\" fill=\"blue\" />\n",
       "  <circle cx=\"200\" cy=\"100\" r=\"80\" fill-opacity=\"0.2\" stroke=\"black\" stroke-width=\"2\" fill=\"red\" />\n",
       "  <circle cx=\"100\" cy=\"100\" r=\"80\" fill-opacity=\"0.2\" stroke=\"black\" stroke-width=\"2\" fill=\"green\" />\n",
       "  <line x1=\"150\" y1=\"125\" x2=\"300\" y2=\"150\" stroke=\"black\" stroke-width=\"2\" fill=\"black\" stroke-dasharray=\"5,3\"/>\n",
       "  <text  x=\"300\" y=\"165\" font-family=\"Verdana\" font-size=\"35\">Everything but this!</text>\n",
       "</svg>"
      ],
      "text/plain": [
       "<IPython.core.display.HTML object>"
      ]
     },
     "metadata": {},
     "output_type": "display_data"
    }
   ],
   "source": [
    "%%HTML\n",
    "<svg width=\"800\" height=\"300\">\n",
    "  <circle cx=\"150\" cy=\"180\" r=\"80\" fill-opacity=\"0.2\" stroke=\"black\" stroke-width=\"2\" fill=\"blue\" />\n",
    "  <circle cx=\"200\" cy=\"100\" r=\"80\" fill-opacity=\"0.2\" stroke=\"black\" stroke-width=\"2\" fill=\"red\" />\n",
    "  <circle cx=\"100\" cy=\"100\" r=\"80\" fill-opacity=\"0.2\" stroke=\"black\" stroke-width=\"2\" fill=\"green\" />\n",
    "  <line x1=\"150\" y1=\"125\" x2=\"300\" y2=\"150\" stroke=\"black\" stroke-width=\"2\" fill=\"black\" stroke-dasharray=\"5,3\"/>\n",
    "  <text  x=\"300\" y=\"165\" font-family=\"Verdana\" font-size=\"35\">Everything but this!</text>\n",
    "</svg>"
   ]
  },
  {
   "cell_type": "code",
   "execution_count": 14,
   "metadata": {},
   "outputs": [
    {
     "name": "stdout",
     "output_type": "stream",
     "text": [
      "156\n"
     ]
    }
   ],
   "source": [
    "def answer_two():\n",
    "    Energy = get_energy()\n",
    "    GDP = get_GDP()\n",
    "    ScimEn = get_ScimEn()\n",
    "    \n",
    "    inner1 = pd.merge(ScimEn, Energy, how='inner', left_on=\"Country\", right_on=\"Country\")\n",
    "    inner2 = pd.merge(inner1, GDP, how=\"inner\", left_on=\"Country\", right_on=\"Country\")\n",
    "    inner2 = inner2.set_index('Country')\n",
    "    inner_row = len(inner2.index)\n",
    "    \n",
    "    outer1 = pd.merge(ScimEn, Energy, how='outer', left_on=\"Country\", right_on=\"Country\")\n",
    "    outer2 = pd.merge(outer1, GDP, how=\"outer\", left_on=\"Country\", right_on=\"Country\")\n",
    "    outer2 = outer2.set_index('Country')\n",
    "    outer_row = len(outer2.index)\n",
    "\n",
    "    return int(outer_row - inner_row)\n",
    "print(answer_two())"
   ]
  },
  {
   "cell_type": "markdown",
   "metadata": {},
   "source": [
    "<br>\n",
    "\n",
    "Answer the following questions in the context of only the top 15 countries by Scimagojr Rank (aka the DataFrame returned by `answer_one()`)"
   ]
  },
  {
   "cell_type": "markdown",
   "metadata": {},
   "source": [
    "### Question 3 (6.6%)\n",
    "What is the average GDP over the last 10 years for each country? (exclude missing values from this calculation.)\n",
    "\n",
    "*This function should return a Series named `avgGDP` with 15 countries and their average GDP sorted in descending order.*"
   ]
  },
  {
   "cell_type": "code",
   "execution_count": 15,
   "metadata": {
    "scrolled": true
   },
   "outputs": [
    {
     "name": "stdout",
     "output_type": "stream",
     "text": [
      "Country\n",
      "United States         1.536434e+13\n",
      "China                 6.348609e+12\n",
      "Japan                 5.542208e+12\n",
      "Germany               3.493025e+12\n",
      "France                2.681725e+12\n",
      "United Kingdom        2.487907e+12\n",
      "Brazil                2.189794e+12\n",
      "Italy                 2.120175e+12\n",
      "India                 1.769297e+12\n",
      "Canada                1.660647e+12\n",
      "Russian Federation    1.565459e+12\n",
      "Spain                 1.418078e+12\n",
      "Australia             1.164043e+12\n",
      "South Korea           1.106715e+12\n",
      "Iran                  4.441558e+11\n",
      "Name: average GDP, dtype: float64\n"
     ]
    }
   ],
   "source": [
    "def answer_three():\n",
    "    Top15 = answer_one()[['2006', '2007', '2008', '2009', '2010', '2011', '2012', '2013', '2014', '2015']]\n",
    "    Top15['average GDP'] = Top15.mean(axis=1)\n",
    "    avgGDP = pd.Series( data=Top15['average GDP'], index=Top15.index ).sort_values( axis=0, ascending=False )\n",
    "    return avgGDP\n",
    "print(answer_three())"
   ]
  },
  {
   "cell_type": "markdown",
   "metadata": {},
   "source": [
    "### Question 4 (6.6%)\n",
    "By how much had the GDP changed over the 10 year span for the country with the 6th largest average GDP?\n",
    "\n",
    "*This function should return a single number.*"
   ]
  },
  {
   "cell_type": "code",
   "execution_count": 16,
   "metadata": {
    "scrolled": true
   },
   "outputs": [
    {
     "name": "stdout",
     "output_type": "stream",
     "text": [
      "246702696075.0\n"
     ]
    }
   ],
   "source": [
    "def answer_four():\n",
    "    Top6th = answer_one()[['2006', '2015']].loc['United Kingdom']\n",
    "    change = Top6th['2015'] - Top6th['2006']\n",
    "    return change\n",
    "print(answer_four())"
   ]
  },
  {
   "cell_type": "markdown",
   "metadata": {},
   "source": [
    "### Question 5 (6.6%)\n",
    "What is the mean `Energy Supply per Capita`?\n",
    "\n",
    "*This function should return a single number.*"
   ]
  },
  {
   "cell_type": "code",
   "execution_count": 17,
   "metadata": {},
   "outputs": [
    {
     "name": "stdout",
     "output_type": "stream",
     "text": [
      "157.6\n"
     ]
    }
   ],
   "source": [
    "def answer_five():\n",
    "    espc = answer_one()['Energy Supply per Capita']\n",
    "    espc = espc.mean()\n",
    "    return espc\n",
    "print(answer_five())"
   ]
  },
  {
   "cell_type": "markdown",
   "metadata": {},
   "source": [
    "### Question 6 (6.6%)\n",
    "What country has the maximum % Renewable and what is the percentage?\n",
    "\n",
    "*This function should return a tuple with the name of the country and the percentage.*"
   ]
  },
  {
   "cell_type": "code",
   "execution_count": 18,
   "metadata": {},
   "outputs": [
    {
     "name": "stdout",
     "output_type": "stream",
     "text": [
      "('Brazil', 69.64803)\n"
     ]
    }
   ],
   "source": [
    "def answer_six():\n",
    "    maxrenew = answer_one()['% Renewable']\n",
    "    (idx, val) = (maxrenew.idxmax(), maxrenew.max())\n",
    "    return (idx, val)\n",
    "print(answer_six())"
   ]
  },
  {
   "cell_type": "markdown",
   "metadata": {},
   "source": [
    "### Question 7 (6.6%)\n",
    "Create a new column that is the ratio of Self-Citations to Total Citations. \n",
    "What is the maximum value for this new column, and what country has the highest ratio?\n",
    "\n",
    "*This function should return a tuple with the name of the country and the ratio.*"
   ]
  },
  {
   "cell_type": "code",
   "execution_count": 20,
   "metadata": {},
   "outputs": [
    {
     "name": "stdout",
     "output_type": "stream",
     "text": [
      "('China', 0.68931261793894216)\n"
     ]
    }
   ],
   "source": [
    "def answer_seven():\n",
    "    ratio = answer_one()[['Self-citations', 'Citations']]\n",
    "    ratio['ratio'] = ratio['Self-citations'] / ratio['Citations']\n",
    "    (idx, val) = ( ratio['ratio'].idxmax(), ratio['ratio'].max() )\n",
    "    return (idx, val)\n",
    "print(answer_seven())"
   ]
  },
  {
   "cell_type": "markdown",
   "metadata": {},
   "source": [
    "### Question 8 (6.6%)\n",
    "\n",
    "Create a column that estimates the population using Energy Supply and Energy Supply per capita. \n",
    "What is the third most populous country according to this estimate?\n",
    "\n",
    "*This function should return a single string value.*"
   ]
  },
  {
   "cell_type": "code",
   "execution_count": 21,
   "metadata": {},
   "outputs": [
    {
     "name": "stdout",
     "output_type": "stream",
     "text": [
      "United States\n"
     ]
    }
   ],
   "source": [
    "def answer_eight():\n",
    "    popul = answer_one()[['Energy Supply', 'Energy Supply per Capita']]\n",
    "    popul['Population'] = popul['Energy Supply'] / popul['Energy Supply per Capita']\n",
    "    popul = popul.sort_values('Population', ascending=False)\n",
    "    country = popul.index[2]\n",
    "    return country\n",
    "print(answer_eight())"
   ]
  },
  {
   "cell_type": "markdown",
   "metadata": {},
   "source": [
    "### Question 9 (6.6%)\n",
    "Create a column that estimates the number of citable documents per person. \n",
    "What is the correlation between the number of citable documents per capita and the energy supply per capita? Use the `.corr()` method, (Pearson's correlation).\n",
    "\n",
    "*This function should return a single number.*\n",
    "\n",
    "*(Optional: Use the built-in function `plot9()` to visualize the relationship between Energy Supply per Capita vs. Citable docs per Capita)*"
   ]
  },
  {
   "cell_type": "code",
   "execution_count": 22,
   "metadata": {},
   "outputs": [
    {
     "name": "stdout",
     "output_type": "stream",
     "text": [
      "0.794001043544\n"
     ]
    }
   ],
   "source": [
    "def answer_nine():\n",
    "    number = answer_one()[['Energy Supply', 'Energy Supply per Capita', 'Citable documents']]\n",
    "    number['Population'] = number['Energy Supply'] / number['Energy Supply per Capita']\n",
    "    number['Citable docs per Capita'] = number['Citable documents'] / number['Population']\n",
    "    number = number.drop( ['Energy Supply', 'Citable documents', 'Population'], axis=1 )\n",
    "    return number.corr('pearson').iloc[0, 1]\n",
    "print(answer_nine())"
   ]
  },
  {
   "cell_type": "code",
   "execution_count": 23,
   "metadata": {
    "collapsed": true
   },
   "outputs": [],
   "source": [
    "def plot9():\n",
    "    import matplotlib as plt\n",
    "    %matplotlib inline\n",
    "    \n",
    "    Top15 = answer_one()\n",
    "    Top15['PopEst'] = Top15['Energy Supply'] / Top15['Energy Supply per Capita']\n",
    "    Top15['Citable docs per Capita'] = Top15['Citable documents'] / Top15['PopEst']\n",
    "    Top15.plot(x='Citable docs per Capita', y='Energy Supply per Capita', kind='scatter', xlim=[0, 0.0006])"
   ]
  },
  {
   "cell_type": "code",
   "execution_count": 24,
   "metadata": {},
   "outputs": [
    {
     "data": {
      "image/png": "[encoded data removed]",
      "text/plain": [
       "<matplotlib.figure.Figure at 0x10bfba0f0>"
      ]
     },
     "metadata": {},
     "output_type": "display_data"
    }
   ],
   "source": [
    "plot9()"
   ]
  },
  {
   "cell_type": "markdown",
   "metadata": {},
   "source": [
    "### Question 10 (6.6%)\n",
    "Create a new column with a 1 if the country's % Renewable value is at or above the median for all countries in the top 15, and a 0 if the country's % Renewable value is below the median.\n",
    "\n",
    "*This function should return a series named `HighRenew` whose index is the country name sorted in ascending order of rank.*"
   ]
  },
  {
   "cell_type": "code",
   "execution_count": 25,
   "metadata": {},
   "outputs": [
    {
     "name": "stdout",
     "output_type": "stream",
     "text": [
      "Country\n",
      "South Korea           0\n",
      "Iran                  0\n",
      "Japan                 0\n",
      "United Kingdom        0\n",
      "United States         0\n",
      "Australia             0\n",
      "India                 0\n",
      "France                1\n",
      "Russian Federation    1\n",
      "Germany               1\n",
      "China                 1\n",
      "Italy                 1\n",
      "Spain                 1\n",
      "Canada                1\n",
      "Brazil                1\n",
      "Name: % Renewable, dtype: object\n"
     ]
    }
   ],
   "source": [
    "def answer_ten():\n",
    "    HighRenew = answer_one()\n",
    "    HighRenew = HighRenew['% Renewable'].sort_values()\n",
    "    renew_med = HighRenew.median()\n",
    "    for idx, val in HighRenew.iteritems():\n",
    "        if val < renew_med:\n",
    "            HighRenew[idx] = 0\n",
    "        else:\n",
    "            HighRenew[idx] = 1\n",
    "    return HighRenew\n",
    "print(answer_ten())"
   ]
  },
  {
   "cell_type": "markdown",
   "metadata": {},
   "source": [
    "### Question 11 (6.6%)\n",
    "Use the following dictionary to group the Countries by Continent, then create a dateframe that displays the sample size (the number of countries in each continent bin), and the sum, mean, and std deviation for the estimated population of each country.\n",
    "\n",
    "```python\n",
    "ContinentDict  = {'China':'Asia', \n",
    "                  'United States':'North America', \n",
    "                  'Japan':'Asia', \n",
    "                  'United Kingdom':'Europe', \n",
    "                  'Russian Federation':'Europe', \n",
    "                  'Canada':'North America', \n",
    "                  'Germany':'Europe', \n",
    "                  'India':'Asia',\n",
    "                  'France':'Europe', \n",
    "                  'South Korea':'Asia', \n",
    "                  'Italy':'Europe', \n",
    "                  'Spain':'Europe', \n",
    "                  'Iran':'Asia',\n",
    "                  'Australia':'Australia', \n",
    "                  'Brazil':'South America'}\n",
    "```\n",
    "\n",
    "*This function should return a DataFrame with index named Continent `['Asia', 'Australia', 'Europe', 'North America', 'South America']` and columns `['size', 'sum', 'mean', 'std']`*"
   ]
  },
  {
   "cell_type": "code",
   "execution_count": 27,
   "metadata": {},
   "outputs": [
    {
     "name": "stdout",
     "output_type": "stream",
     "text": [
      "               size           sum          mean           std\n",
      "Continent                                                    \n",
      "Asia            5.0  2.898666e+09  5.797333e+08  6.790979e+08\n",
      "Australia       1.0  2.331602e+07  2.331602e+07           NaN\n",
      "Europe          6.0  4.579297e+08  7.632161e+07  3.464767e+07\n",
      "North America   2.0  3.528552e+08  1.764276e+08  1.996696e+08\n",
      "South America   1.0  2.059153e+08  2.059153e+08           NaN\n"
     ]
    },
    {
     "name": "stderr",
     "output_type": "stream",
     "text": [
      "/Users/swi8825/anaconda3/lib/python3.6/site-packages/ipykernel_launcher.py:21: FutureWarning: using a dict on a Series for aggregation\n",
      "is deprecated and will be removed in a future version\n"
     ]
    }
   ],
   "source": [
    "def answer_eleven():\n",
    "    contin = answer_one()[['Energy Supply', 'Energy Supply per Capita']]\n",
    "    contin['Population'] = contin['Energy Supply'] / contin['Energy Supply per Capita']\n",
    "    ContinentDict  = {'China':'Asia',\n",
    "                      'United States':'North America',\n",
    "                      'Japan':'Asia',\n",
    "                      'United Kingdom':'Europe',\n",
    "                      'Russian Federation':'Europe',\n",
    "                      'Canada':'North America',\n",
    "                      'Germany':'Europe',\n",
    "                      'India':'Asia',\n",
    "                      'France':'Europe',\n",
    "                      'South Korea':'Asia',\n",
    "                      'Italy':'Europe',\n",
    "                      'Spain':'Europe',\n",
    "                      'Iran':'Asia',\n",
    "                      'Australia':'Australia',\n",
    "                      'Brazil':'South America'}\n",
    "    contin['Continent'] = pd.Series(ContinentDict)\n",
    "    contin = contin.drop(['Energy Supply', 'Energy Supply per Capita'], axis=1)\n",
    "    contin_info = contin.groupby('Continent')['Population'].agg( {'size':np.size, 'sum':np.sum, 'mean':np.mean, 'std':np.std} )\n",
    "    return contin_info\n",
    "print(answer_eleven())"
   ]
  },
  {
   "cell_type": "markdown",
   "metadata": {},
   "source": [
    "### Question 12 (6.6%)\n",
    "Cut % Renewable into 5 bins. Group Top15 by the Continent, as well as these new % Renewable bins. How many countries are in each of these groups?\n",
    "\n",
    "*This function should return a __Series__ with a MultiIndex of `Continent`, then the bins for `% Renewable`. Do not include groups with no countries.*"
   ]
  },
  {
   "cell_type": "code",
   "execution_count": 28,
   "metadata": {
    "scrolled": true
   },
   "outputs": [
    {
     "name": "stdout",
     "output_type": "stream",
     "text": [
      "Continent      bin             \n",
      "Asia           (2.212, 15.753]     4\n",
      "               (15.753, 29.227]    1\n",
      "Australia      (2.212, 15.753]     1\n",
      "Europe         (2.212, 15.753]     1\n",
      "               (15.753, 29.227]    3\n",
      "               (29.227, 42.701]    2\n",
      "North America  (2.212, 15.753]     1\n",
      "               (56.174, 69.648]    1\n",
      "South America  (56.174, 69.648]    1\n",
      "Name: % Renewable, dtype: int64\n"
     ]
    }
   ],
   "source": [
    "def answer_twelve():\n",
    "    ContinentDict  = {'China':'Asia',\n",
    "                      'United States':'North America',\n",
    "                      'Japan':'Asia',\n",
    "                      'United Kingdom':'Europe',\n",
    "                      'Russian Federation':'Europe',\n",
    "                      'Canada':'North America',\n",
    "                      'Germany':'Europe',\n",
    "                      'India':'Asia',\n",
    "                      'France':'Europe',\n",
    "                      'South Korea':'Asia',\n",
    "                      'Italy':'Europe',\n",
    "                      'Spain':'Europe',\n",
    "                      'Iran':'Asia',\n",
    "                      'Australia':'Australia',\n",
    "                      'Brazil':'South America'}\n",
    "    renew = answer_one()[['% Renewable']]\n",
    "    renew['Continent'] = pd.Series(ContinentDict)\n",
    "    renew = renew.set_index('Continent')\n",
    "    renew['bin'] = pd.cut(renew['% Renewable'], 5)\n",
    "    renew_bin = renew.groupby([renew.index, 'bin'])['% Renewable'].agg(np.size)\n",
    "    return renew_bin\n",
    "print(answer_twelve())"
   ]
  },
  {
   "cell_type": "markdown",
   "metadata": {},
   "source": [
    "### Question 13 (6.6%)\n",
    "Convert the Population Estimate series to a string with thousands separator (using commas). Do not round the results.\n",
    "\n",
    "e.g. 317615384.61538464 -> 317,615,384.61538464\n",
    "\n",
    "*This function should return a Series `PopEst` whose index is the country name and whose values are the population estimate string.*"
   ]
  },
  {
   "cell_type": "code",
   "execution_count": 29,
   "metadata": {
    "scrolled": true
   },
   "outputs": [
    {
     "name": "stdout",
     "output_type": "stream",
     "text": [
      "Country\n",
      "China                 1,367,645,161.2903225\n",
      "United States          317,615,384.61538464\n",
      "Japan                  127,409,395.97315437\n",
      "United Kingdom         63,870,967.741935484\n",
      "Russian Federation            143,500,000.0\n",
      "Canada                  35,239,864.86486486\n",
      "Germany                 80,369,696.96969697\n",
      "India                 1,276,730,769.2307692\n",
      "France                  63,837,349.39759036\n",
      "South Korea            49,805,429.864253394\n",
      "Italy                  59,908,256.880733944\n",
      "Spain                    46,443,396.2264151\n",
      "Iran                    77,075,630.25210084\n",
      "Australia              23,316,017.316017315\n",
      "Brazil                 205,915,254.23728815\n",
      "Name: Population, dtype: object\n"
     ]
    },
    {
     "name": "stderr",
     "output_type": "stream",
     "text": [
      "/Users/swi8825/anaconda3/lib/python3.6/site-packages/ipykernel_launcher.py:4: DeprecationWarning: \n",
      ".ix is deprecated. Please use\n",
      ".loc for label based indexing or\n",
      ".iloc for positional indexing\n",
      "\n",
      "See the documentation here:\n",
      "http://pandas.pydata.org/pandas-docs/stable/indexing.html#ix-indexer-is-deprecated\n",
      "  after removing the cwd from sys.path.\n"
     ]
    }
   ],
   "source": [
    "def answer_thirteen():\n",
    "    PopEst = answer_one()[['Energy Supply', 'Energy Supply per Capita']]\n",
    "    PopEst['Population'] = PopEst['Energy Supply'] / PopEst['Energy Supply per Capita']\n",
    "    PopEst = PopEst.drop(['Energy Supply', 'Energy Supply per Capita'], axis=1).ix[:, 0]\n",
    "    for idx, val in PopEst.iteritems():\n",
    "        PopEst[idx] = \"{:,}\".format(PopEst[idx])\n",
    "    return PopEst\n",
    "print(answer_thirteen())"
   ]
  },
  {
   "cell_type": "code",
   "execution_count": null,
   "metadata": {
    "collapsed": true
   },
   "outputs": [],
   "source": []
  }
 ],
 "metadata": {
  "anaconda-cloud": {},
  "coursera": {
   "course_slug": "python-data-analysis",
   "graded_item_id": "zAr06",
   "launcher_item_id": "KSSjT",
   "part_id": "SL3fU"
  },
  "kernelspec": {
   "display_name": "Python 3",
   "language": "python",
   "name": "python3"
  },
  "language_info": {
   "codemirror_mode": {
    "name": "ipython",
    "version": 3
   },
   "file_extension": ".py",
   "mimetype": "text/x-python",
   "name": "python",
   "nbconvert_exporter": "python",
   "pygments_lexer": "ipython3",
   "version": "3.6.3"
  }
 },
 "nbformat": 4,
 "nbformat_minor": 1
}
