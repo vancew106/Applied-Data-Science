{
 "cells": [
  {
   "cell_type": "markdown",
   "metadata": {},
   "source": [
    "### General instructions"
   ]
  },
  {
   "cell_type": "markdown",
   "metadata": {},
   "source": [
    "Complete the exercises listed below in this Jupyter notebook - leaving all of your code in Python cells in the notebook itself.  Feel free to add any necessary cells."
   ]
  },
  {
   "cell_type": "code",
   "execution_count": 1,
   "metadata": {
    "collapsed": true
   },
   "outputs": [],
   "source": [
    "import autograd.numpy as np\n",
    "from autograd import grad\n",
    "from matplotlib import gridspec\n",
    "import matplotlib.pyplot as plt"
   ]
  },
  {
   "cell_type": "code",
   "execution_count": 2,
   "metadata": {
    "collapsed": true
   },
   "outputs": [],
   "source": [
    "def gradient_descent(func, alpha, max_its, w):\n",
    "    gradient = grad(func)\n",
    "    weight_history = []\n",
    "    for k in range(max_its):\n",
    "        grad_eval = gradient(w)\n",
    "        w = w - alpha * grad_eval\n",
    "        weight_history.append(w)\n",
    "    return weight_history"
   ]
  },
  {
   "cell_type": "markdown",
   "metadata": {},
   "source": [
    "#### <span style=\"color:#a50e3e;\">Exercise 1. </span>   Perform two-class classification on a toy dataset"
   ]
  },
  {
   "cell_type": "markdown",
   "metadata": {},
   "source": [
    "Code up the two-class logistic regression / softmax cost function, using gradient descent to minimize.  You should use the two class toy dataset we [we saw in class](https://jermwatt.github.io/mlrefined/presentations/courses/deep_learning/Lecture_3_logistic_regression.slides.html#/14/1) to test out your code.  This dataset is in the file called *3d_classification_data_v2.csv*.\n",
    "\n",
    "Create a plot with two panels that shows the number of misclassifications at each gradient descent step (in the left panel), and one that compares the cost function at each gradient descent step (in the right panel).  You won't get perfect separation - but you should be able to separate most of the points."
   ]
  },
  {
   "cell_type": "code",
   "execution_count": 3,
   "metadata": {
    "collapsed": true
   },
   "outputs": [],
   "source": [
    "data_1 = np.loadtxt('3d_classification_data_v2.csv', delimiter=',') # load the data\n",
    "x = data_1[:, :-1]\n",
    "y = data_1[:, -1]\n",
    "y.shape = (len(y), 1)"
   ]
  },
  {
   "cell_type": "code",
   "execution_count": 4,
   "metadata": {
    "collapsed": true
   },
   "outputs": [],
   "source": [
    "# avoid overflow\n",
    "#def my_exp(x, G=500):\n",
    "    #return np.exp(x) if x<G else np.exp(G)\n",
    "\n",
    "# define softmax cost\n",
    "def softmax(w):\n",
    "    cost = 0\n",
    "    for p in range(0, len(y)):\n",
    "        ap = w[0] + np.dot(x[p].T, w[1:])\n",
    "        #ap = w[0] + sum([a*b for a, b in zip(w[1:], x[p])])\n",
    "        cost += np.log(1 + np.exp(-y[p] * ap))\n",
    "    return cost\n",
    "\n",
    "# define counting cost\n",
    "def counting_cost(w):\n",
    "    cost = 0\n",
    "    for p in range(0, len(y)):\n",
    "        ap = w[0] + np.dot(x[p].T, w[1:])\n",
    "        #ap = w[0] + sum([a*b for a, b in zip(w[1:], x[p])])\n",
    "        cost += (np.sign(ap)-y[p])**2\n",
    "    return 0.25*cost"
   ]
  },
  {
   "cell_type": "code",
   "execution_count": 5,
   "metadata": {
    "collapsed": true
   },
   "outputs": [],
   "source": [
    "w_init = np.random.randn(3,1) # initial point at random, 3 by 1 \n",
    "weight_hist = gradient_descent(func=softmax, alpha=0.05, max_its=100, w=w_init)"
   ]
  },
  {
   "cell_type": "code",
   "execution_count": 6,
   "metadata": {
    "collapsed": true
   },
   "outputs": [],
   "source": [
    "count_evals = [] # list of misclassification number \n",
    "cost_evals = [] # list of softmax cost history \n",
    "for k in range(len(weight_hist)):\n",
    "    w = weight_hist[k]\n",
    "    count_evals.append(counting_cost(w)) # add each misclassification number history\n",
    "    cost_evals.append(softmax(w)) # add each softmax cost history"
   ]
  },
  {
   "cell_type": "code",
   "execution_count": 7,
   "metadata": {},
   "outputs": [
    {
     "data": {
      "image/png": "[encoded data removed]",
      "text/plain": [
       "<matplotlib.figure.Figure at 0x10e748470>"
      ]
     },
     "metadata": {},
     "output_type": "display_data"
    }
   ],
   "source": [
    "# create subplots\n",
    "fig = plt.figure(figsize=(18,10))\n",
    "gs = gridspec.GridSpec(2, 2, width_ratios=[1, 1])\n",
    "ax1 = plt.subplot(gs[0])\n",
    "ax2 = plt.subplot(gs[1])\n",
    "\n",
    "ax1.plot(np.arange(0, len(weight_hist)), count_evals[:len(weight_hist)])\n",
    "ax1.set_xlabel('iteration', fontsize = 13)\n",
    "ax1.set_ylabel('num misclassifications', rotation = 90, fontsize = 13)\n",
    "ax1.set_title('number of misclassifications', fontsize = 14)\n",
    "\n",
    "ax2.set_xlabel('iteration', fontsize = 13)\n",
    "ax2.set_ylabel('cost value', rotation = 90, fontsize = 13)\n",
    "ax2.set_title('softmax cost', fontsize = 14)\n",
    "ax2.plot(np.arange(0, len(weight_hist)), cost_evals[:len(weight_hist)])\n",
    "\n",
    "plt.show()"
   ]
  },
  {
   "cell_type": "markdown",
   "metadata": {},
   "source": [
    "#### <span style=\"color:#a50e3e;\">Exercise 2. </span>   Perform two-class classification on a breast cancer dataset"
   ]
  },
  {
   "cell_type": "markdown",
   "metadata": {},
   "source": [
    "Use the softmax cost function to classify healthy from cancerous tissue using the dataset located in breast_cancer_dataset.csv (included in this homework folder).  You can examine the description of this dataset [here](https://archive.ics.uci.edu/ml/datasets/Breast+Cancer+Wisconsin+(Diagnostic)). \n",
    "\n",
    "There are $N = 8$ input dimensions to the input of this dataset (these are the first $N = 8$ columns of the breast_cancer_dataset.csv, the last column are the associated labels).  Fit using gradient descent using a maximum of 5,000 iterations.  You should be able to reach a point on the surface where you misclassify less than 30 examples."
   ]
  },
  {
   "cell_type": "markdown",
   "metadata": {},
   "source": [
    "**Note:** Python is a great prototyping language but [it is slow](http://jakevdp.github.io/blog/2014/05/09/why-python-is-slow/), particular when evaluating explicit for loops.  If you are having speed issues try re-writing the softmax cost function using as few explicit for-loops as possible (you can indeed write the entire summation in a single line of Python code, for-loop free)."
   ]
  },
  {
   "cell_type": "code",
   "execution_count": 8,
   "metadata": {
    "collapsed": true
   },
   "outputs": [],
   "source": [
    "data_2 = np.loadtxt('breast_cancer_data.csv', delimiter=',') # load the data\n",
    "x = data_2[:, :-1]\n",
    "y = data_2[:, -1]\n",
    "y.shape = (len(y), 1)"
   ]
  },
  {
   "cell_type": "code",
   "execution_count": 9,
   "metadata": {
    "collapsed": true
   },
   "outputs": [],
   "source": [
    "w_init = np.random.randn(9,1) # initial point at random, 9 by 1 \n",
    "weight_hist = gradient_descent(func=softmax, alpha=10**-4, max_its=2000, w=w_init)"
   ]
  },
  {
   "cell_type": "code",
   "execution_count": 10,
   "metadata": {
    "collapsed": true
   },
   "outputs": [],
   "source": [
    "count_evals = [] # list of misclassification number \n",
    "cost_evals = [] # list of softmax cost history \n",
    "for k in range(len(weight_hist)):\n",
    "    w = weight_hist[k]\n",
    "    count_evals.append(counting_cost(w)) # add each misclassification number history\n",
    "    cost_evals.append(softmax(w)) # add each softmax cost history"
   ]
  },
  {
   "cell_type": "code",
   "execution_count": 11,
   "metadata": {},
   "outputs": [
    {
     "data": {
      "image/png": "[encoded data removed]",
      "text/plain": [
       "<matplotlib.figure.Figure at 0x10e8ae208>"
      ]
     },
     "metadata": {},
     "output_type": "display_data"
    }
   ],
   "source": [
    "# create subplots\n",
    "fig = plt.figure(figsize=(18, 18))\n",
    "gs = gridspec.GridSpec(2, 2, width_ratios=[1, 1])\n",
    "ax1 = plt.subplot(gs[0])\n",
    "ax2 = plt.subplot(gs[1])\n",
    " \n",
    "ax1.plot(np.arange(0, len(weight_hist)), count_evals[:len(weight_hist)])\n",
    "ax1.set_xlabel('iteration', fontsize = 13)\n",
    "ax1.set_ylabel('num misclassifications', rotation = 90, fontsize = 13)\n",
    "ax1.set_title('number of misclassifications', fontsize = 14)\n",
    "\n",
    "ax2.set_xlabel('iteration', fontsize = 13)\n",
    "ax2.set_ylabel('cost value', rotation = 90, fontsize = 13)\n",
    "ax2.set_title('softmax cost', fontsize = 14)\n",
    "ax2.plot(np.arange(0, len(weight_hist)), cost_evals[:len(weight_hist)])\n",
    "\n",
    "plt.show()"
   ]
  },
  {
   "cell_type": "markdown",
   "metadata": {
    "collapsed": true
   },
   "source": [
    "#### <span style=\"color:#a50e3e;\">Exercise 3. </span>   Code up One-versus-All multiclass classification"
   ]
  },
  {
   "cell_type": "markdown",
   "metadata": {},
   "source": [
    "Using the toy $C = 3$ class dataset we saw [in class](https://jermwatt.github.io/mlrefined/presentations/courses/deep_learning/Lecture_5_one_versus_all.slides.html#/) - located in *3class_data.csv* - code up One-Versus-All classification, using this toy dataset to test out your code.  You should be able to learn a model that perfectly separates this data - as shown in class.  You may use your softmax cost / gradient descent code here for each of the two-class subproblems! "
   ]
  },
  {
   "cell_type": "code",
   "execution_count": 12,
   "metadata": {
    "collapsed": true
   },
   "outputs": [],
   "source": [
    "data_3 = np.loadtxt('3class_data.csv', delimiter=',') # load the data\n",
    "x = data_3[:, :-1]\n",
    "y = data_3[:, -1]\n",
    "y.shape = (len(y), 1)"
   ]
  },
  {
   "cell_type": "code",
   "execution_count": 13,
   "metadata": {
    "collapsed": true
   },
   "outputs": [],
   "source": [
    "# counting cost for multi-class\n",
    "def softmax(w):\n",
    "    cost = 0\n",
    "    for p in range(0, len(y_temp)): # y_temp is the list of temporary labels from when we do OvA classification\n",
    "        ap = w[0] + np.dot(x[p].T, w[1:])\n",
    "        #ap = w[0] + sum([a*b for a, b in zip(w[1:], x[p])])\n",
    "        cost += np.log(1 + np.exp(-y_temp[p] * ap))\n",
    "    return cost"
   ]
  },
  {
   "cell_type": "code",
   "execution_count": 14,
   "metadata": {
    "collapsed": true
   },
   "outputs": [],
   "source": [
    "# perform OvA multi-class classification \n",
    "num_classes = np.size(np.unique(y))\n",
    "idx = 0\n",
    "w_init = np.random.randn(3, 1)\n",
    "W = []\n",
    "for c in np.unique(y):\n",
    "    y_temp = [] # list of temporary labels \n",
    "    for i in range(len(y)):\n",
    "        if y[i] == c:\n",
    "            y_temp.append(1.0) # if yp = c, labels = 1\n",
    "        if y[i] != c:\n",
    "            y_temp.append(-1.0) # if yp != c, labels = -1        \n",
    "            \n",
    "    w_hist = gradient_descent(func=softmax, alpha=0.1, max_its=50, w=w_init)\n",
    "    \n",
    "    # find the best weights for each classifier\n",
    "    g_count = []\n",
    "    for j in range(len(w_hist)):\n",
    "        w = w_hist[j]\n",
    "        g_count.append(softmax(w))\n",
    "    idx = np.argmin(g_count)\n",
    "    w = w_hist[idx]\n",
    "    \n",
    "    # normalize the weights of each classifier by length of the normal vector\n",
    "    w_norm = np.dot(w[1:].T, w[1:])**(0.5)\n",
    "    w_temp = [v/w_norm for v in w]\n",
    "    W.append(w_temp)\n",
    "\n",
    "W = np.asarray(W)\n",
    "W.shape = (3, 3)"
   ]
  },
  {
   "cell_type": "code",
   "execution_count": 15,
   "metadata": {},
   "outputs": [
    {
     "name": "stdout",
     "output_type": "stream",
     "text": [
      "[1, 1, 1, 1, 1, 1, 1, 1, 1, 1, 2, 2, 2, 2, 2, 2, 2, 2, 2, 2, 3, 3, 3, 3, 3, 3, 3, 3, 3, 3]\n"
     ]
    }
   ],
   "source": [
    "# applying fusion rule\n",
    "idx_list = [] # index of predicted y \n",
    "for nn in range(0, len(y)): # number of y values is 30\n",
    "    temp_list = []\n",
    "    for c in range(0, num_classes): # number of classes is 3\n",
    "        pt = W[c][0] + np.dot(x[nn].T, W[c][1:])\n",
    "        temp_list.append(pt)\n",
    "    idx_list.append(np.argmax(temp_list)+1)\n",
    "\n",
    "print(idx_list)"
   ]
  },
  {
   "cell_type": "markdown",
   "metadata": {},
   "source": [
    "##### From the above index of classification, we can see the predicted y is exactly the same as all original y values "
   ]
  },
  {
   "cell_type": "code",
   "execution_count": 21,
   "metadata": {},
   "outputs": [
    {
     "name": "stdout",
     "output_type": "stream",
     "text": [
      "The number of misclassification is: 0.0\n"
     ]
    }
   ],
   "source": [
    "# compute misclassification number\n",
    "num_misclass = 0\n",
    "for p in range(0, len(idx_list)):\n",
    "    num_misclass += np.sign(idx_list[p] - data_3[:, -1][p])\n",
    "print('The number of misclassification is: ' + str(num_misclass))"
   ]
  },
  {
   "cell_type": "markdown",
   "metadata": {},
   "source": [
    "#### <span style=\"color:#a50e3e;\">Exercise 4. </span>   A nonlinear two-class dataset"
   ]
  },
  {
   "cell_type": "markdown",
   "metadata": {},
   "source": [
    "Propose a nonlinear feature transformation and integrate it into your two-class classification scheme in order to adequately classify the dataset shown below - located in the file *bricks.csv'.  With the right transformation you should be able to classify this quite well."
   ]
  },
  {
   "cell_type": "markdown",
   "metadata": {},
   "source": [
    "<p>\n",
    "  <img src= 'brick_pick.png' width=\"40%\" height=\"40%\" alt=\"\"/>\n",
    "</p>"
   ]
  },
  {
   "cell_type": "code",
   "execution_count": 17,
   "metadata": {
    "collapsed": true
   },
   "outputs": [],
   "source": [
    "data_4 = np.loadtxt('bricks.csv', delimiter=',') # load the data\n",
    "x = data_4[:, :-1]\n",
    "y = data_4[:, -1]\n",
    "y.shape = (len(y), 1)"
   ]
  },
  {
   "cell_type": "code",
   "execution_count": 22,
   "metadata": {
    "collapsed": true
   },
   "outputs": [],
   "source": [
    "# define the decision boundary / predictor\n",
    "def f1(x, w):\n",
    "    return w[1]*x[0]\n",
    "\n",
    "def f2(x, w):\n",
    "    return w[2]*np.sin(w[3]+w[4]*x[1])\n",
    "\n",
    "def predict(x, w):\n",
    "    # prediction = w[0] * np.sin(w[1]*x[0] + w[2]*x[1])\n",
    "    #prediction = w[0] * np.sin(w[1] * x[0]) * np.sin(w[2] * x[1])\n",
    "    prediction = w[0]+ f1(x, w) + f2(x, w)\n",
    "    return prediction\n",
    "\n",
    "# define softmax cost\n",
    "lam = 10**(-3)\n",
    "def softmargin_svm(w):\n",
    "    cost = 0\n",
    "    for p in range (0, len(y)):\n",
    "        cost += np.log(1 + np.exp(-y[p]*predict(x[p, :], w))) + lam*np.dot(w[1:].T, w[1:])\n",
    "    return cost"
   ]
  },
  {
   "cell_type": "code",
   "execution_count": 24,
   "metadata": {
    "collapsed": true
   },
   "outputs": [],
   "source": [
    "# tune the prediction\n",
    "w_init = np.asarray([-1.0, -1.0, 0.0, 0.0, 1.0])\n",
    "weight_hist = gradient_descent(func=softmargin_svm, alpha=0.1, max_its=500, w=w_init)"
   ]
  },
  {
   "cell_type": "code",
   "execution_count": 25,
   "metadata": {
    "collapsed": true
   },
   "outputs": [],
   "source": [
    "# find the best weight\n",
    "g_count = []\n",
    "for j in range(len(weight_hist)):\n",
    "    w = weight_hist[j]\n",
    "    g_count.append(softmargin_svm(w)) \n",
    "idx = np.argmin(g_count) # with best weights, softmax cost should be the minimum\n",
    "best_w = weight_hist[idx] "
   ]
  },
  {
   "cell_type": "code",
   "execution_count": 26,
   "metadata": {
    "collapsed": true
   },
   "outputs": [],
   "source": [
    "# generate predicted y\n",
    "pred_y = []\n",
    "for num in range(0, len(y)):\n",
    "    # assuming predicted y = sign ( predictior ) \n",
    "    py = np.sign(predict(x[num, :], best_w))\n",
    "    pred_y.append(py)\n",
    "\n",
    "# reshape the list of predicted y\n",
    "pred_y = np.asarray(pred_y)\n",
    "pred_y.shape = (len(y), 1)"
   ]
  },
  {
   "cell_type": "code",
   "execution_count": 27,
   "metadata": {
    "collapsed": true
   },
   "outputs": [],
   "source": [
    "# get softmax cost history\n",
    "cost_evals = []\n",
    "for k in range(len(weight_hist)):\n",
    "    w = weight_hist[k]\n",
    "    cost_evals.append(softmargin_svm(w))"
   ]
  },
  {
   "cell_type": "code",
   "execution_count": 28,
   "metadata": {
    "scrolled": true
   },
   "outputs": [
    {
     "data": {
      "image/png": "[encoded data removed]",
      "text/plain": [
       "<matplotlib.figure.Figure at 0x10f260f98>"
      ]
     },
     "metadata": {},
     "output_type": "display_data"
    }
   ],
   "source": [
    "# get softmax cost history\n",
    "cost_evals = []\n",
    "for k in range(len(weight_hist)):\n",
    "    w = weight_hist[k]\n",
    "    cost_evals.append(softmargin_svm(w))"
   ]
  },
  {
   "cell_type": "code",
   "execution_count": 29,
   "metadata": {},
   "outputs": [
    {
     "name": "stdout",
     "output_type": "stream",
     "text": [
      "The number of misclassification is: 2.0\n"
     ]
    }
   ],
   "source": [
    "# now we compute the number of misclassification\n",
    "number_misclass = 0\n",
    "for p in range(0, len(y)):\n",
    "    number_misclass += np.absolute(np.sign(pred_y[p] - y[p]))\n",
    "print('The number of misclassification is: ' + str(number_misclass[0]))"
   ]
  }
 ],
 "metadata": {
  "anaconda-cloud": {},
  "kernelspec": {
   "display_name": "Python 3",
   "language": "python",
   "name": "python3"
  },
  "language_info": {
   "codemirror_mode": {
    "name": "ipython",
    "version": 3
   },
   "file_extension": ".py",
   "mimetype": "text/x-python",
   "name": "python",
   "nbconvert_exporter": "python",
   "pygments_lexer": "ipython3",
   "version": "3.6.3"
  },
  "toc": {
   "colors": {
    "hover_highlight": "#DAA520",
    "navigate_num": "#000000",
    "navigate_text": "#333333",
    "running_highlight": "#FF0000",
    "selected_highlight": "#FFD700",
    "sidebar_border": "#EEEEEE",
    "wrapper_background": "#FFFFFF"
   },
   "moveMenuLeft": true,
   "nav_menu": {
    "height": "30px",
    "width": "252px"
   },
   "navigate_menu": true,
   "number_sections": false,
   "sideBar": true,
   "threshold": 4,
   "toc_cell": false,
   "toc_section_display": "block",
   "toc_window_display": false,
   "widenNotebook": false
  }
 },
 "nbformat": 4,
 "nbformat_minor": 1
}
